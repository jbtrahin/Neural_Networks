{
 "cells": [
  {
   "cell_type": "code",
   "execution_count": 1,
   "metadata": {},
   "outputs": [],
   "source": [
    "# Import our dependencies\n",
    "import pandas as pd\n",
    "import matplotlib as plt\n",
    "from sklearn.datasets import make_blobs\n",
    "from sklearn.preprocessing import StandardScaler\n",
    "import sklearn as skl\n",
    "import tensorflow as tf\n"
   ]
  },
  {
   "cell_type": "code",
   "execution_count": 2,
   "metadata": {},
   "outputs": [
    {
     "data": {
      "text/html": [
       "<div>\n",
       "<style scoped>\n",
       "    .dataframe tbody tr th:only-of-type {\n",
       "        vertical-align: middle;\n",
       "    }\n",
       "\n",
       "    .dataframe tbody tr th {\n",
       "        vertical-align: top;\n",
       "    }\n",
       "\n",
       "    .dataframe thead th {\n",
       "        text-align: right;\n",
       "    }\n",
       "</style>\n",
       "<table border=\"1\" class=\"dataframe\">\n",
       "  <thead>\n",
       "    <tr style=\"text-align: right;\">\n",
       "      <th></th>\n",
       "      <th>Feature 1</th>\n",
       "      <th>Feature 2</th>\n",
       "      <th>Target</th>\n",
       "    </tr>\n",
       "  </thead>\n",
       "  <tbody>\n",
       "    <tr>\n",
       "      <td>0</td>\n",
       "      <td>5.478098</td>\n",
       "      <td>7.203714</td>\n",
       "      <td>1</td>\n",
       "    </tr>\n",
       "    <tr>\n",
       "      <td>1</td>\n",
       "      <td>-8.428483</td>\n",
       "      <td>4.121889</td>\n",
       "      <td>0</td>\n",
       "    </tr>\n",
       "    <tr>\n",
       "      <td>2</td>\n",
       "      <td>-7.905447</td>\n",
       "      <td>3.323639</td>\n",
       "      <td>0</td>\n",
       "    </tr>\n",
       "    <tr>\n",
       "      <td>3</td>\n",
       "      <td>6.411041</td>\n",
       "      <td>5.523013</td>\n",
       "      <td>1</td>\n",
       "    </tr>\n",
       "    <tr>\n",
       "      <td>4</td>\n",
       "      <td>7.288599</td>\n",
       "      <td>6.171226</td>\n",
       "      <td>1</td>\n",
       "    </tr>\n",
       "    <tr>\n",
       "      <td>...</td>\n",
       "      <td>...</td>\n",
       "      <td>...</td>\n",
       "      <td>...</td>\n",
       "    </tr>\n",
       "    <tr>\n",
       "      <td>995</td>\n",
       "      <td>6.208962</td>\n",
       "      <td>5.233968</td>\n",
       "      <td>1</td>\n",
       "    </tr>\n",
       "    <tr>\n",
       "      <td>996</td>\n",
       "      <td>-9.795754</td>\n",
       "      <td>3.502709</td>\n",
       "      <td>0</td>\n",
       "    </tr>\n",
       "    <tr>\n",
       "      <td>997</td>\n",
       "      <td>4.335167</td>\n",
       "      <td>5.928298</td>\n",
       "      <td>1</td>\n",
       "    </tr>\n",
       "    <tr>\n",
       "      <td>998</td>\n",
       "      <td>-8.466632</td>\n",
       "      <td>3.577022</td>\n",
       "      <td>0</td>\n",
       "    </tr>\n",
       "    <tr>\n",
       "      <td>999</td>\n",
       "      <td>-8.386629</td>\n",
       "      <td>4.179025</td>\n",
       "      <td>0</td>\n",
       "    </tr>\n",
       "  </tbody>\n",
       "</table>\n",
       "<p>1000 rows × 3 columns</p>\n",
       "</div>"
      ],
      "text/plain": [
       "     Feature 1  Feature 2  Target\n",
       "0     5.478098   7.203714       1\n",
       "1    -8.428483   4.121889       0\n",
       "2    -7.905447   3.323639       0\n",
       "3     6.411041   5.523013       1\n",
       "4     7.288599   6.171226       1\n",
       "..         ...        ...     ...\n",
       "995   6.208962   5.233968       1\n",
       "996  -9.795754   3.502709       0\n",
       "997   4.335167   5.928298       1\n",
       "998  -8.466632   3.577022       0\n",
       "999  -8.386629   4.179025       0\n",
       "\n",
       "[1000 rows x 3 columns]"
      ]
     },
     "execution_count": 2,
     "metadata": {},
     "output_type": "execute_result"
    }
   ],
   "source": [
    "# Generate dummy dataset\n",
    "X, y = make_blobs(n_samples=1000, centers=2, n_features=2, random_state=78)\n",
    "\n",
    "# Creating a DataFrame with the dummy data\n",
    "df = pd.DataFrame(X, columns=[\"Feature 1\", \"Feature 2\"])\n",
    "df[\"Target\"] = y\n",
    "\n",
    "# Plotting the dummy data\n",
    "df.plot.scatter(x=\"Feature 1\", y=\"Feature 2\", c=\"Target\", colormap=\"winter\")\n",
    "\n",
    "df"
   ]
  },
  {
   "cell_type": "code",
   "execution_count": 3,
   "metadata": {},
   "outputs": [],
   "source": [
    "# Use sklearn to split dataset\n",
    "from sklearn.model_selection import train_test_split\n",
    "X_train, X_test, y_train, y_test = train_test_split(X, y, random_state=78)\n"
   ]
  },
  {
   "cell_type": "code",
   "execution_count": 4,
   "metadata": {},
   "outputs": [],
   "source": [
    "# Create scaler instance\n",
    "X_scaler = skl.preprocessing.StandardScaler()\n",
    "\n",
    "# Fit the scaler\n",
    "X_scaler.fit(X_train)\n",
    "\n",
    "# Scale the data\n",
    "X_train_scaled = X_scaler.transform(X_train)\n",
    "X_test_scaled = X_scaler.transform(X_test)\n"
   ]
  },
  {
   "cell_type": "code",
   "execution_count": 5,
   "metadata": {},
   "outputs": [],
   "source": [
    "# Create the Keras Sequential model\n",
    "nn_model = tf.keras.models.Sequential()\n"
   ]
  },
  {
   "cell_type": "code",
   "execution_count": 6,
   "metadata": {},
   "outputs": [],
   "source": [
    "# Add our first Dense layer, including the input layer\n",
    "nn_model.add(tf.keras.layers.Dense(units=1, activation=\"relu\", input_dim=2))\n"
   ]
  },
  {
   "cell_type": "code",
   "execution_count": 7,
   "metadata": {},
   "outputs": [],
   "source": [
    "# Add the output layer that uses a probability activation function\n",
    "nn_model.add(tf.keras.layers.Dense(units=1, activation=\"sigmoid\"))\n"
   ]
  },
  {
   "cell_type": "code",
   "execution_count": 8,
   "metadata": {},
   "outputs": [
    {
     "name": "stdout",
     "output_type": "stream",
     "text": [
      "Model: \"sequential\"\n",
      "_________________________________________________________________\n",
      "Layer (type)                 Output Shape              Param #   \n",
      "=================================================================\n",
      "dense (Dense)                (None, 1)                 3         \n",
      "_________________________________________________________________\n",
      "dense_1 (Dense)              (None, 1)                 2         \n",
      "=================================================================\n",
      "Total params: 5\n",
      "Trainable params: 5\n",
      "Non-trainable params: 0\n",
      "_________________________________________________________________\n"
     ]
    }
   ],
   "source": [
    "# Check the structure of the Sequential model\n",
    "nn_model.summary()"
   ]
  },
  {
   "cell_type": "code",
   "execution_count": 9,
   "metadata": {},
   "outputs": [],
   "source": [
    "# Compile the Sequential model together and customize metrics\n",
    "nn_model.compile(loss=\"binary_crossentropy\", optimizer=\"adam\", metrics=[\"accuracy\"])\n"
   ]
  },
  {
   "cell_type": "code",
   "execution_count": 10,
   "metadata": {},
   "outputs": [
    {
     "name": "stdout",
     "output_type": "stream",
     "text": [
      "Train on 750 samples\n",
      "Epoch 1/100\n",
      "750/750 [==============================] - 1s 1ms/sample - loss: 0.8731 - accuracy: 0.0080\n",
      "Epoch 2/100\n",
      "750/750 [==============================] - 0s 68us/sample - loss: 0.8522 - accuracy: 0.0080\n",
      "Epoch 3/100\n",
      "750/750 [==============================] - 0s 78us/sample - loss: 0.8338 - accuracy: 0.0120\n",
      "Epoch 4/100\n",
      "750/750 [==============================] - 0s 68us/sample - loss: 0.8174 - accuracy: 0.0120\n",
      "Epoch 5/100\n",
      "750/750 [==============================] - 0s 67us/sample - loss: 0.8029 - accuracy: 0.0147\n",
      "Epoch 6/100\n",
      "750/750 [==============================] - 0s 65us/sample - loss: 0.7901 - accuracy: 0.0200\n",
      "Epoch 7/100\n",
      "750/750 [==============================] - 0s 65us/sample - loss: 0.7785 - accuracy: 0.0293\n",
      "Epoch 8/100\n",
      "750/750 [==============================] - 0s 65us/sample - loss: 0.7683 - accuracy: 0.0480\n",
      "Epoch 9/100\n",
      "750/750 [==============================] - 0s 64us/sample - loss: 0.7591 - accuracy: 0.0587\n",
      "Epoch 10/100\n",
      "750/750 [==============================] - 0s 68us/sample - loss: 0.7509 - accuracy: 0.0787\n",
      "Epoch 11/100\n",
      "750/750 [==============================] - 0s 65us/sample - loss: 0.7434 - accuracy: 0.1000\n",
      "Epoch 12/100\n",
      "750/750 [==============================] - 0s 62us/sample - loss: 0.7368 - accuracy: 0.1320\n",
      "Epoch 13/100\n",
      "750/750 [==============================] - 0s 69us/sample - loss: 0.7308 - accuracy: 0.1640\n",
      "Epoch 14/100\n",
      "750/750 [==============================] - 0s 59us/sample - loss: 0.7254 - accuracy: 0.1960\n",
      "Epoch 15/100\n",
      "750/750 [==============================] - 0s 66us/sample - loss: 0.7207 - accuracy: 0.2320\n",
      "Epoch 16/100\n",
      "750/750 [==============================] - 0s 65us/sample - loss: 0.7164 - accuracy: 0.2627\n",
      "Epoch 17/100\n",
      "750/750 [==============================] - 0s 64us/sample - loss: 0.7127 - accuracy: 0.3027\n",
      "Epoch 18/100\n",
      "750/750 [==============================] - 0s 63us/sample - loss: 0.7093 - accuracy: 0.3360\n",
      "Epoch 19/100\n",
      "750/750 [==============================] - 0s 62us/sample - loss: 0.7063 - accuracy: 0.3813\n",
      "Epoch 20/100\n",
      "750/750 [==============================] - 0s 62us/sample - loss: 0.7039 - accuracy: 0.4067\n",
      "Epoch 21/100\n",
      "750/750 [==============================] - 0s 59us/sample - loss: 0.7017 - accuracy: 0.4320\n",
      "Epoch 22/100\n",
      "750/750 [==============================] - 0s 66us/sample - loss: 0.6998 - accuracy: 0.4573\n",
      "Epoch 23/100\n",
      "750/750 [==============================] - 0s 59us/sample - loss: 0.6982 - accuracy: 0.4800\n",
      "Epoch 24/100\n",
      "750/750 [==============================] - 0s 64us/sample - loss: 0.6970 - accuracy: 0.4933\n",
      "Epoch 25/100\n",
      "750/750 [==============================] - 0s 66us/sample - loss: 0.6960 - accuracy: 0.4973\n",
      "Epoch 26/100\n",
      "750/750 [==============================] - 0s 67us/sample - loss: 0.6953 - accuracy: 0.5000\n",
      "Epoch 27/100\n",
      "750/750 [==============================] - 0s 69us/sample - loss: 0.6948 - accuracy: 0.5040\n",
      "Epoch 28/100\n",
      "750/750 [==============================] - 0s 72us/sample - loss: 0.6943 - accuracy: 0.5040\n",
      "Epoch 29/100\n",
      "750/750 [==============================] - 0s 66us/sample - loss: 0.6940 - accuracy: 0.5053\n",
      "Epoch 30/100\n",
      "750/750 [==============================] - 0s 63us/sample - loss: 0.6938 - accuracy: 0.5053\n",
      "Epoch 31/100\n",
      "750/750 [==============================] - 0s 66us/sample - loss: 0.6936 - accuracy: 0.5053\n",
      "Epoch 32/100\n",
      "750/750 [==============================] - 0s 65us/sample - loss: 0.6935 - accuracy: 0.5053\n",
      "Epoch 33/100\n",
      "750/750 [==============================] - 0s 66us/sample - loss: 0.6934 - accuracy: 0.5053\n",
      "Epoch 34/100\n",
      "750/750 [==============================] - 0s 65us/sample - loss: 0.6934 - accuracy: 0.5053\n",
      "Epoch 35/100\n",
      "750/750 [==============================] - 0s 64us/sample - loss: 0.6933 - accuracy: 0.5053\n",
      "Epoch 36/100\n",
      "750/750 [==============================] - 0s 62us/sample - loss: 0.6934 - accuracy: 0.5053\n",
      "Epoch 37/100\n",
      "750/750 [==============================] - 0s 67us/sample - loss: 0.6933 - accuracy: 0.5053\n",
      "Epoch 38/100\n",
      "750/750 [==============================] - 0s 68us/sample - loss: 0.6932 - accuracy: 0.5053\n",
      "Epoch 39/100\n",
      "750/750 [==============================] - 0s 67us/sample - loss: 0.6932 - accuracy: 0.5053\n",
      "Epoch 40/100\n",
      "750/750 [==============================] - 0s 79us/sample - loss: 0.6932 - accuracy: 0.5053\n",
      "Epoch 41/100\n",
      "750/750 [==============================] - 0s 75us/sample - loss: 0.6932 - accuracy: 0.5053\n",
      "Epoch 42/100\n",
      "750/750 [==============================] - 0s 63us/sample - loss: 0.6932 - accuracy: 0.5053\n",
      "Epoch 43/100\n",
      "750/750 [==============================] - 0s 64us/sample - loss: 0.6932 - accuracy: 0.5053\n",
      "Epoch 44/100\n",
      "750/750 [==============================] - 0s 60us/sample - loss: 0.6933 - accuracy: 0.5053\n",
      "Epoch 45/100\n",
      "750/750 [==============================] - 0s 58us/sample - loss: 0.6931 - accuracy: 0.5053\n",
      "Epoch 46/100\n",
      "750/750 [==============================] - 0s 61us/sample - loss: 0.6932 - accuracy: 0.5053\n",
      "Epoch 47/100\n",
      "750/750 [==============================] - 0s 67us/sample - loss: 0.6932 - accuracy: 0.5053\n",
      "Epoch 48/100\n",
      "750/750 [==============================] - 0s 59us/sample - loss: 0.6932 - accuracy: 0.5053\n",
      "Epoch 49/100\n",
      "750/750 [==============================] - 0s 65us/sample - loss: 0.6931 - accuracy: 0.5053\n",
      "Epoch 50/100\n",
      "750/750 [==============================] - 0s 73us/sample - loss: 0.6931 - accuracy: 0.5053\n",
      "Epoch 51/100\n",
      "750/750 [==============================] - 0s 65us/sample - loss: 0.6931 - accuracy: 0.5053\n",
      "Epoch 52/100\n",
      "750/750 [==============================] - 0s 66us/sample - loss: 0.6931 - accuracy: 0.5053\n",
      "Epoch 53/100\n",
      "750/750 [==============================] - 0s 56us/sample - loss: 0.6931 - accuracy: 0.5053\n",
      "Epoch 54/100\n",
      "750/750 [==============================] - 0s 66us/sample - loss: 0.6931 - accuracy: 0.5053\n",
      "Epoch 55/100\n",
      "750/750 [==============================] - 0s 62us/sample - loss: 0.6931 - accuracy: 0.5053\n",
      "Epoch 56/100\n",
      "750/750 [==============================] - 0s 60us/sample - loss: 0.6932 - accuracy: 0.5053\n",
      "Epoch 57/100\n",
      "750/750 [==============================] - 0s 67us/sample - loss: 0.6931 - accuracy: 0.5053\n",
      "Epoch 58/100\n",
      "750/750 [==============================] - 0s 60us/sample - loss: 0.6931 - accuracy: 0.5053\n",
      "Epoch 59/100\n",
      "750/750 [==============================] - 0s 62us/sample - loss: 0.6931 - accuracy: 0.5053\n",
      "Epoch 60/100\n",
      "750/750 [==============================] - 0s 59us/sample - loss: 0.6931 - accuracy: 0.5053\n",
      "Epoch 61/100\n",
      "750/750 [==============================] - 0s 63us/sample - loss: 0.6931 - accuracy: 0.5053\n",
      "Epoch 62/100\n",
      "750/750 [==============================] - 0s 59us/sample - loss: 0.6931 - accuracy: 0.5053\n",
      "Epoch 63/100\n",
      "750/750 [==============================] - 0s 60us/sample - loss: 0.6931 - accuracy: 0.5067\n",
      "Epoch 64/100\n",
      "750/750 [==============================] - 0s 57us/sample - loss: 0.6931 - accuracy: 0.5067\n",
      "Epoch 65/100\n",
      "750/750 [==============================] - 0s 63us/sample - loss: 0.6931 - accuracy: 0.5067\n",
      "Epoch 66/100\n",
      "750/750 [==============================] - 0s 66us/sample - loss: 0.6931 - accuracy: 0.5053\n",
      "Epoch 67/100\n",
      "750/750 [==============================] - 0s 60us/sample - loss: 0.6931 - accuracy: 0.5067\n",
      "Epoch 68/100\n",
      "750/750 [==============================] - 0s 65us/sample - loss: 0.6931 - accuracy: 0.5067\n",
      "Epoch 69/100\n",
      "750/750 [==============================] - 0s 56us/sample - loss: 0.6931 - accuracy: 0.5067\n",
      "Epoch 70/100\n",
      "750/750 [==============================] - 0s 64us/sample - loss: 0.6931 - accuracy: 0.5067\n",
      "Epoch 71/100\n",
      "750/750 [==============================] - 0s 65us/sample - loss: 0.6932 - accuracy: 0.5067\n",
      "Epoch 72/100\n",
      "750/750 [==============================] - 0s 64us/sample - loss: 0.6931 - accuracy: 0.5067\n",
      "Epoch 73/100\n",
      "750/750 [==============================] - 0s 64us/sample - loss: 0.6931 - accuracy: 0.5067\n",
      "Epoch 74/100\n",
      "750/750 [==============================] - 0s 64us/sample - loss: 0.6931 - accuracy: 0.5067\n",
      "Epoch 75/100\n",
      "750/750 [==============================] - 0s 59us/sample - loss: 0.6931 - accuracy: 0.5067\n",
      "Epoch 76/100\n",
      "750/750 [==============================] - 0s 60us/sample - loss: 0.6931 - accuracy: 0.5067\n",
      "Epoch 77/100\n",
      "750/750 [==============================] - 0s 65us/sample - loss: 0.6931 - accuracy: 0.5067\n",
      "Epoch 78/100\n"
     ]
    },
    {
     "name": "stdout",
     "output_type": "stream",
     "text": [
      "750/750 [==============================] - 0s 67us/sample - loss: 0.6931 - accuracy: 0.5067\n",
      "Epoch 79/100\n",
      "750/750 [==============================] - 0s 56us/sample - loss: 0.6931 - accuracy: 0.5067\n",
      "Epoch 80/100\n",
      "750/750 [==============================] - 0s 64us/sample - loss: 0.6931 - accuracy: 0.5067\n",
      "Epoch 81/100\n",
      "750/750 [==============================] - 0s 55us/sample - loss: 0.6931 - accuracy: 0.5067\n",
      "Epoch 82/100\n",
      "750/750 [==============================] - 0s 54us/sample - loss: 0.6931 - accuracy: 0.5067\n",
      "Epoch 83/100\n",
      "750/750 [==============================] - 0s 63us/sample - loss: 0.6931 - accuracy: 0.5067\n",
      "Epoch 84/100\n",
      "750/750 [==============================] - 0s 62us/sample - loss: 0.6931 - accuracy: 0.5067\n",
      "Epoch 85/100\n",
      "750/750 [==============================] - 0s 60us/sample - loss: 0.6931 - accuracy: 0.5067\n",
      "Epoch 86/100\n",
      "750/750 [==============================] - 0s 62us/sample - loss: 0.6931 - accuracy: 0.5067\n",
      "Epoch 87/100\n",
      "750/750 [==============================] - 0s 58us/sample - loss: 0.6931 - accuracy: 0.5067\n",
      "Epoch 88/100\n",
      "750/750 [==============================] - 0s 68us/sample - loss: 0.6931 - accuracy: 0.5067\n",
      "Epoch 89/100\n",
      "750/750 [==============================] - 0s 64us/sample - loss: 0.6931 - accuracy: 0.5067\n",
      "Epoch 90/100\n",
      "750/750 [==============================] - 0s 66us/sample - loss: 0.6931 - accuracy: 0.5067\n",
      "Epoch 91/100\n",
      "750/750 [==============================] - 0s 69us/sample - loss: 0.6931 - accuracy: 0.5067\n",
      "Epoch 92/100\n",
      "750/750 [==============================] - 0s 64us/sample - loss: 0.6931 - accuracy: 0.5067\n",
      "Epoch 93/100\n",
      "750/750 [==============================] - 0s 62us/sample - loss: 0.6931 - accuracy: 0.5067\n",
      "Epoch 94/100\n",
      "750/750 [==============================] - 0s 61us/sample - loss: 0.6931 - accuracy: 0.5067\n",
      "Epoch 95/100\n",
      "750/750 [==============================] - 0s 58us/sample - loss: 0.6931 - accuracy: 0.5067\n",
      "Epoch 96/100\n",
      "750/750 [==============================] - 0s 59us/sample - loss: 0.6931 - accuracy: 0.5067\n",
      "Epoch 97/100\n",
      "750/750 [==============================] - 0s 57us/sample - loss: 0.6931 - accuracy: 0.5067\n",
      "Epoch 98/100\n",
      "750/750 [==============================] - 0s 58us/sample - loss: 0.6931 - accuracy: 0.5067\n",
      "Epoch 99/100\n",
      "750/750 [==============================] - 0s 58us/sample - loss: 0.6931 - accuracy: 0.5067\n",
      "Epoch 100/100\n",
      "750/750 [==============================] - 0s 57us/sample - loss: 0.6931 - accuracy: 0.5067\n"
     ]
    }
   ],
   "source": [
    "# Fit the model to the training data\n",
    "fit_model = nn_model.fit(X_train_scaled, y_train, epochs=100)\n"
   ]
  },
  {
   "cell_type": "code",
   "execution_count": 11,
   "metadata": {},
   "outputs": [
    {
     "data": {
      "text/plain": [
       "<matplotlib.axes._subplots.AxesSubplot at 0x1a44ffb860>"
      ]
     },
     "execution_count": 11,
     "metadata": {},
     "output_type": "execute_result"
    },
    {
     "data": {
      "image/png": "[encoded data removed]",
      "text/plain": [
       "<Figure size 432x288 with 1 Axes>"
      ]
     },
     "metadata": {
      "needs_background": "light"
     },
     "output_type": "display_data"
    }
   ],
   "source": [
    "# Create a DataFrame containing training history\n",
    "history_df = pd.DataFrame(fit_model.history, index=range(1,len(fit_model.history[\"loss\"])+1))\n",
    "\n",
    "# Plot the loss\n",
    "history_df.plot(y=\"loss\")"
   ]
  },
  {
   "cell_type": "code",
   "execution_count": 12,
   "metadata": {},
   "outputs": [
    {
     "data": {
      "text/plain": [
       "<matplotlib.axes._subplots.AxesSubplot at 0x1a45899518>"
      ]
     },
     "execution_count": 12,
     "metadata": {},
     "output_type": "execute_result"
    },
    {
     "data": {
      "image/png": "[encoded data removed]",
      "text/plain": [
       "<Figure size 432x288 with 1 Axes>"
      ]
     },
     "metadata": {
      "needs_background": "light"
     },
     "output_type": "display_data"
    }
   ],
   "source": [
    "# Plot the accuracy\n",
    "history_df.plot(y=\"accuracy\")"
   ]
  },
  {
   "cell_type": "code",
   "execution_count": 13,
   "metadata": {},
   "outputs": [
    {
     "name": "stdout",
     "output_type": "stream",
     "text": [
      "250/1 - 0s - loss: 0.6918 - accuracy: 0.4800\n",
      "Loss: 0.6938683156967163, Accuracy: 0.47999998927116394\n"
     ]
    }
   ],
   "source": [
    "# Evaluate the model using the test data\n",
    "model_loss, model_accuracy = nn_model.evaluate(X_test_scaled,y_test,verbose=2)\n",
    "print(f\"Loss: {model_loss}, Accuracy: {model_accuracy}\")\n"
   ]
  },
  {
   "cell_type": "code",
   "execution_count": 14,
   "metadata": {},
   "outputs": [
    {
     "data": {
      "text/plain": [
       "array([[0],\n",
       "       [0],\n",
       "       [1],\n",
       "       [0],\n",
       "       [0],\n",
       "       [0],\n",
       "       [0],\n",
       "       [0],\n",
       "       [0],\n",
       "       [0]], dtype=int32)"
      ]
     },
     "execution_count": 14,
     "metadata": {},
     "output_type": "execute_result"
    }
   ],
   "source": [
    "# Predict the classification of a new set of blob data\n",
    "new_X, new_Y = make_blobs(n_samples=10, centers=2, n_features=2, random_state=78)\n",
    "\n",
    "nn_model.predict_classes(new_X)\n"
   ]
  },
  {
   "cell_type": "code",
   "execution_count": 23,
   "metadata": {},
   "outputs": [
    {
     "data": {
      "text/plain": [
       "<matplotlib.axes._subplots.AxesSubplot at 0x1a46195f60>"
      ]
     },
     "execution_count": 23,
     "metadata": {},
     "output_type": "execute_result"
    },
    {
     "data": {
      "image/png": "[encoded data removed]",
      "text/plain": [
       "<Figure size 432x288 with 2 Axes>"
      ]
     },
     "metadata": {
      "needs_background": "light"
     },
     "output_type": "display_data"
    }
   ],
   "source": [
    "from sklearn.datasets import make_moons\n",
    "\n",
    "# Creating dummy nonlinear data\n",
    "X_moons, y_moons = make_moons(n_samples=1000, noise=0.08, random_state=78)\n",
    "\n",
    "# Transforming y_moons to a vertical vector\n",
    "y_moons = y_moons.reshape(-1, 1)\n",
    "\n",
    "# Creating a DataFrame to plot the nonlinear dummy data\n",
    "df_moons = pd.DataFrame(X_moons, columns=[\"Feature 1\", \"Feature 2\"])\n",
    "df_moons[\"Target\"] = y_moons\n",
    "\n",
    "# Plot the nonlinear dummy data\n",
    "df_moons.plot.scatter(x=\"Feature 1\",y=\"Feature 2\", c=\"Target\",colormap=\"winter\")\n"
   ]
  },
  {
   "cell_type": "code",
   "execution_count": 24,
   "metadata": {},
   "outputs": [],
   "source": [
    "# Create training and testing sets\n",
    "X_moon_train, X_moon_test, y_moon_train, y_moon_test = train_test_split(\n",
    "    X_moons, y_moons, random_state=78\n",
    ")\n",
    "\n",
    "# Create the scaler instance\n",
    "X_moon_scaler = skl.preprocessing.StandardScaler()\n",
    "\n",
    "# Fit the scaler\n",
    "X_moon_scaler.fit(X_moon_train)\n",
    "\n",
    "# Scale the data\n",
    "X_moon_train_scaled = X_moon_scaler.transform(X_moon_train)\n",
    "X_moon_test_scaled = X_moon_scaler.transform(X_moon_test)\n"
   ]
  },
  {
   "cell_type": "code",
   "execution_count": 25,
   "metadata": {},
   "outputs": [
    {
     "name": "stdout",
     "output_type": "stream",
     "text": [
      "Train on 750 samples\n",
      "Epoch 1/100\n",
      "750/750 [==============================] - 0s 176us/sample - loss: 0.6913 - accuracy: 0.5307\n",
      "Epoch 2/100\n",
      "750/750 [==============================] - 0s 74us/sample - loss: 0.6913 - accuracy: 0.5307\n",
      "Epoch 3/100\n",
      "750/750 [==============================] - 0s 67us/sample - loss: 0.6913 - accuracy: 0.5307\n",
      "Epoch 4/100\n",
      "750/750 [==============================] - 0s 69us/sample - loss: 0.6913 - accuracy: 0.5307\n",
      "Epoch 5/100\n",
      "750/750 [==============================] - 0s 64us/sample - loss: 0.6913 - accuracy: 0.5307\n",
      "Epoch 6/100\n",
      "750/750 [==============================] - 0s 69us/sample - loss: 0.6913 - accuracy: 0.5307\n",
      "Epoch 7/100\n",
      "750/750 [==============================] - 0s 70us/sample - loss: 0.6913 - accuracy: 0.5307\n",
      "Epoch 8/100\n",
      "750/750 [==============================] - 0s 67us/sample - loss: 0.6913 - accuracy: 0.5307\n",
      "Epoch 9/100\n",
      "750/750 [==============================] - 0s 67us/sample - loss: 0.6913 - accuracy: 0.5307\n",
      "Epoch 10/100\n",
      "750/750 [==============================] - 0s 68us/sample - loss: 0.6913 - accuracy: 0.5307\n",
      "Epoch 11/100\n",
      "750/750 [==============================] - 0s 69us/sample - loss: 0.6913 - accuracy: 0.5307\n",
      "Epoch 12/100\n",
      "750/750 [==============================] - 0s 68us/sample - loss: 0.6913 - accuracy: 0.5307\n",
      "Epoch 13/100\n",
      "750/750 [==============================] - 0s 59us/sample - loss: 0.6913 - accuracy: 0.5307\n",
      "Epoch 14/100\n",
      "750/750 [==============================] - 0s 60us/sample - loss: 0.6913 - accuracy: 0.5307\n",
      "Epoch 15/100\n",
      "750/750 [==============================] - 0s 63us/sample - loss: 0.6913 - accuracy: 0.5307\n",
      "Epoch 16/100\n",
      "750/750 [==============================] - 0s 62us/sample - loss: 0.6913 - accuracy: 0.5307\n",
      "Epoch 17/100\n",
      "750/750 [==============================] - 0s 62us/sample - loss: 0.6913 - accuracy: 0.5307\n",
      "Epoch 18/100\n",
      "750/750 [==============================] - 0s 57us/sample - loss: 0.6913 - accuracy: 0.5307\n",
      "Epoch 19/100\n",
      "750/750 [==============================] - 0s 64us/sample - loss: 0.6913 - accuracy: 0.5307\n",
      "Epoch 20/100\n",
      "750/750 [==============================] - 0s 61us/sample - loss: 0.6913 - accuracy: 0.5307\n",
      "Epoch 21/100\n",
      "750/750 [==============================] - 0s 60us/sample - loss: 0.6913 - accuracy: 0.5307\n",
      "Epoch 22/100\n",
      "750/750 [==============================] - 0s 66us/sample - loss: 0.6913 - accuracy: 0.5307\n",
      "Epoch 23/100\n",
      "750/750 [==============================] - 0s 61us/sample - loss: 0.6913 - accuracy: 0.5307\n",
      "Epoch 24/100\n",
      "750/750 [==============================] - 0s 64us/sample - loss: 0.6913 - accuracy: 0.5307\n",
      "Epoch 25/100\n",
      "750/750 [==============================] - 0s 63us/sample - loss: 0.6913 - accuracy: 0.5307\n",
      "Epoch 26/100\n",
      "750/750 [==============================] - 0s 63us/sample - loss: 0.6913 - accuracy: 0.5307\n",
      "Epoch 27/100\n",
      "750/750 [==============================] - 0s 62us/sample - loss: 0.6913 - accuracy: 0.5307\n",
      "Epoch 28/100\n",
      "750/750 [==============================] - 0s 64us/sample - loss: 0.6913 - accuracy: 0.5307\n",
      "Epoch 29/100\n",
      "750/750 [==============================] - 0s 65us/sample - loss: 0.6913 - accuracy: 0.5307\n",
      "Epoch 30/100\n",
      "750/750 [==============================] - 0s 66us/sample - loss: 0.6913 - accuracy: 0.5307\n",
      "Epoch 31/100\n",
      "750/750 [==============================] - 0s 70us/sample - loss: 0.6913 - accuracy: 0.5307\n",
      "Epoch 32/100\n",
      "750/750 [==============================] - 0s 74us/sample - loss: 0.6913 - accuracy: 0.5307\n",
      "Epoch 33/100\n",
      "750/750 [==============================] - 0s 66us/sample - loss: 0.6913 - accuracy: 0.5307\n",
      "Epoch 34/100\n",
      "750/750 [==============================] - 0s 67us/sample - loss: 0.6913 - accuracy: 0.5307\n",
      "Epoch 35/100\n",
      "750/750 [==============================] - 0s 67us/sample - loss: 0.6913 - accuracy: 0.5307\n",
      "Epoch 36/100\n",
      "750/750 [==============================] - 0s 66us/sample - loss: 0.6913 - accuracy: 0.5307\n",
      "Epoch 37/100\n",
      "750/750 [==============================] - 0s 67us/sample - loss: 0.6913 - accuracy: 0.5307\n",
      "Epoch 38/100\n",
      "750/750 [==============================] - 0s 64us/sample - loss: 0.6913 - accuracy: 0.5307\n",
      "Epoch 39/100\n",
      "750/750 [==============================] - 0s 61us/sample - loss: 0.6913 - accuracy: 0.5307\n",
      "Epoch 40/100\n",
      "750/750 [==============================] - 0s 56us/sample - loss: 0.6913 - accuracy: 0.5307\n",
      "Epoch 41/100\n",
      "750/750 [==============================] - 0s 62us/sample - loss: 0.6913 - accuracy: 0.5307\n",
      "Epoch 42/100\n",
      "750/750 [==============================] - 0s 66us/sample - loss: 0.6913 - accuracy: 0.5307\n",
      "Epoch 43/100\n",
      "750/750 [==============================] - 0s 60us/sample - loss: 0.6914 - accuracy: 0.5307\n",
      "Epoch 44/100\n",
      "750/750 [==============================] - 0s 60us/sample - loss: 0.6913 - accuracy: 0.5307\n",
      "Epoch 45/100\n",
      "750/750 [==============================] - 0s 63us/sample - loss: 0.6913 - accuracy: 0.5307\n",
      "Epoch 46/100\n",
      "750/750 [==============================] - 0s 62us/sample - loss: 0.6914 - accuracy: 0.5307\n",
      "Epoch 47/100\n",
      "750/750 [==============================] - 0s 61us/sample - loss: 0.6913 - accuracy: 0.5307\n",
      "Epoch 48/100\n",
      "750/750 [==============================] - 0s 69us/sample - loss: 0.6913 - accuracy: 0.5307\n",
      "Epoch 49/100\n",
      "750/750 [==============================] - 0s 62us/sample - loss: 0.6913 - accuracy: 0.5307\n",
      "Epoch 50/100\n",
      "750/750 [==============================] - 0s 59us/sample - loss: 0.6913 - accuracy: 0.5307\n",
      "Epoch 51/100\n",
      "750/750 [==============================] - 0s 60us/sample - loss: 0.6913 - accuracy: 0.5307\n",
      "Epoch 52/100\n",
      "750/750 [==============================] - 0s 57us/sample - loss: 0.6913 - accuracy: 0.5307\n",
      "Epoch 53/100\n",
      "750/750 [==============================] - 0s 61us/sample - loss: 0.6913 - accuracy: 0.5307\n",
      "Epoch 54/100\n",
      "750/750 [==============================] - 0s 60us/sample - loss: 0.6913 - accuracy: 0.5307\n",
      "Epoch 55/100\n",
      "750/750 [==============================] - 0s 59us/sample - loss: 0.6913 - accuracy: 0.5307\n",
      "Epoch 56/100\n",
      "750/750 [==============================] - 0s 59us/sample - loss: 0.6913 - accuracy: 0.5307\n",
      "Epoch 57/100\n",
      "750/750 [==============================] - 0s 62us/sample - loss: 0.6913 - accuracy: 0.5307\n",
      "Epoch 58/100\n",
      "750/750 [==============================] - 0s 60us/sample - loss: 0.6913 - accuracy: 0.5307\n",
      "Epoch 59/100\n",
      "750/750 [==============================] - 0s 58us/sample - loss: 0.6913 - accuracy: 0.5307\n",
      "Epoch 60/100\n",
      "750/750 [==============================] - 0s 56us/sample - loss: 0.6913 - accuracy: 0.5307\n",
      "Epoch 61/100\n",
      "750/750 [==============================] - 0s 64us/sample - loss: 0.6913 - accuracy: 0.5307\n",
      "Epoch 62/100\n",
      "750/750 [==============================] - 0s 60us/sample - loss: 0.6913 - accuracy: 0.5307\n",
      "Epoch 63/100\n",
      "750/750 [==============================] - 0s 58us/sample - loss: 0.6913 - accuracy: 0.5307\n",
      "Epoch 64/100\n",
      "750/750 [==============================] - 0s 64us/sample - loss: 0.6913 - accuracy: 0.5307\n",
      "Epoch 65/100\n",
      "750/750 [==============================] - 0s 61us/sample - loss: 0.6913 - accuracy: 0.5307\n",
      "Epoch 66/100\n",
      "750/750 [==============================] - 0s 59us/sample - loss: 0.6913 - accuracy: 0.5307\n",
      "Epoch 67/100\n",
      "750/750 [==============================] - 0s 61us/sample - loss: 0.6913 - accuracy: 0.5307\n",
      "Epoch 68/100\n",
      "750/750 [==============================] - 0s 63us/sample - loss: 0.6913 - accuracy: 0.5307\n",
      "Epoch 69/100\n",
      "750/750 [==============================] - 0s 61us/sample - loss: 0.6913 - accuracy: 0.5307\n",
      "Epoch 70/100\n",
      "750/750 [==============================] - 0s 59us/sample - loss: 0.6913 - accuracy: 0.5307\n",
      "Epoch 71/100\n",
      "750/750 [==============================] - 0s 62us/sample - loss: 0.6913 - accuracy: 0.5307\n",
      "Epoch 72/100\n",
      "750/750 [==============================] - 0s 61us/sample - loss: 0.6913 - accuracy: 0.5307\n",
      "Epoch 73/100\n",
      "750/750 [==============================] - 0s 62us/sample - loss: 0.6913 - accuracy: 0.5307\n",
      "Epoch 74/100\n",
      "750/750 [==============================] - 0s 69us/sample - loss: 0.6913 - accuracy: 0.5307\n",
      "Epoch 75/100\n",
      "750/750 [==============================] - 0s 64us/sample - loss: 0.6913 - accuracy: 0.5307\n",
      "Epoch 76/100\n",
      "750/750 [==============================] - 0s 63us/sample - loss: 0.6913 - accuracy: 0.5307\n",
      "Epoch 77/100\n",
      "750/750 [==============================] - 0s 63us/sample - loss: 0.6913 - accuracy: 0.5307\n",
      "Epoch 78/100\n"
     ]
    },
    {
     "name": "stdout",
     "output_type": "stream",
     "text": [
      "750/750 [==============================] - 0s 61us/sample - loss: 0.6913 - accuracy: 0.5307\n",
      "Epoch 79/100\n",
      "750/750 [==============================] - 0s 57us/sample - loss: 0.6913 - accuracy: 0.5307\n",
      "Epoch 80/100\n",
      "750/750 [==============================] - 0s 59us/sample - loss: 0.6913 - accuracy: 0.5307\n",
      "Epoch 81/100\n",
      "750/750 [==============================] - 0s 58us/sample - loss: 0.6913 - accuracy: 0.5307\n",
      "Epoch 82/100\n",
      "750/750 [==============================] - 0s 58us/sample - loss: 0.6913 - accuracy: 0.5307\n",
      "Epoch 83/100\n",
      "750/750 [==============================] - 0s 56us/sample - loss: 0.6913 - accuracy: 0.5307\n",
      "Epoch 84/100\n",
      "750/750 [==============================] - 0s 56us/sample - loss: 0.6913 - accuracy: 0.5307\n",
      "Epoch 85/100\n",
      "750/750 [==============================] - 0s 54us/sample - loss: 0.6913 - accuracy: 0.5307\n",
      "Epoch 86/100\n",
      "750/750 [==============================] - 0s 56us/sample - loss: 0.6913 - accuracy: 0.5307\n",
      "Epoch 87/100\n",
      "750/750 [==============================] - 0s 53us/sample - loss: 0.6913 - accuracy: 0.5307\n",
      "Epoch 88/100\n",
      "750/750 [==============================] - 0s 58us/sample - loss: 0.6913 - accuracy: 0.5307\n",
      "Epoch 89/100\n",
      "750/750 [==============================] - 0s 53us/sample - loss: 0.6913 - accuracy: 0.5307\n",
      "Epoch 90/100\n",
      "750/750 [==============================] - 0s 54us/sample - loss: 0.6913 - accuracy: 0.5307\n",
      "Epoch 91/100\n",
      "750/750 [==============================] - 0s 53us/sample - loss: 0.6913 - accuracy: 0.5307\n",
      "Epoch 92/100\n",
      "750/750 [==============================] - 0s 63us/sample - loss: 0.6913 - accuracy: 0.5307\n",
      "Epoch 93/100\n",
      "750/750 [==============================] - 0s 64us/sample - loss: 0.6913 - accuracy: 0.5307\n",
      "Epoch 94/100\n",
      "750/750 [==============================] - 0s 61us/sample - loss: 0.6913 - accuracy: 0.5307\n",
      "Epoch 95/100\n",
      "750/750 [==============================] - 0s 60us/sample - loss: 0.6914 - accuracy: 0.5307\n",
      "Epoch 96/100\n",
      "750/750 [==============================] - 0s 57us/sample - loss: 0.6913 - accuracy: 0.5307\n",
      "Epoch 97/100\n",
      "750/750 [==============================] - 0s 58us/sample - loss: 0.6913 - accuracy: 0.5307\n",
      "Epoch 98/100\n",
      "750/750 [==============================] - 0s 57us/sample - loss: 0.6913 - accuracy: 0.5307\n",
      "Epoch 99/100\n",
      "750/750 [==============================] - 0s 56us/sample - loss: 0.6913 - accuracy: 0.5307\n",
      "Epoch 100/100\n",
      "750/750 [==============================] - 0s 52us/sample - loss: 0.6913 - accuracy: 0.5307\n"
     ]
    }
   ],
   "source": [
    "# Training the model with the nonlinear data\n",
    "model_moon = nn_model.fit(X_moon_train_scaled, y_moon_train, epochs=100, shuffle=True)\n"
   ]
  },
  {
   "cell_type": "code",
   "execution_count": 21,
   "metadata": {},
   "outputs": [
    {
     "data": {
      "text/plain": [
       "<matplotlib.axes._subplots.AxesSubplot at 0x1a45ee6f60>"
      ]
     },
     "execution_count": 21,
     "metadata": {},
     "output_type": "execute_result"
    },
    {
     "data": {
      "image/png": "[encoded data removed]",
      "text/plain": [
       "<Figure size 432x288 with 1 Axes>"
      ]
     },
     "metadata": {
      "needs_background": "light"
     },
     "output_type": "display_data"
    }
   ],
   "source": [
    "# Create a DataFrame containing training history\n",
    "history_df = pd.DataFrame(model_moon.history, index=range(1,len(model_moon.history[\"loss\"])+1))\n",
    "\n",
    "# Plot the loss\n",
    "history_df.plot(y=\"loss\")"
   ]
  },
  {
   "cell_type": "code",
   "execution_count": 22,
   "metadata": {},
   "outputs": [
    {
     "data": {
      "text/plain": [
       "<matplotlib.axes._subplots.AxesSubplot at 0x1a45e99d68>"
      ]
     },
     "execution_count": 22,
     "metadata": {},
     "output_type": "execute_result"
    },
    {
     "data": {
      "image/png": "[encoded data removed]",
      "text/plain": [
       "<Figure size 432x288 with 1 Axes>"
      ]
     },
     "metadata": {
      "needs_background": "light"
     },
     "output_type": "display_data"
    }
   ],
   "source": [
    "# Plot the loss\n",
    "history_df.plot(y=\"accuracy\")"
   ]
  },
  {
   "cell_type": "code",
   "execution_count": null,
   "metadata": {},
   "outputs": [],
   "source": []
  }
 ],
 "metadata": {
  "kernelspec": {
   "display_name": "PythonData",
   "language": "python",
   "name": "pythondata"
  },
  "language_info": {
   "codemirror_mode": {
    "name": "ipython",
    "version": 3
   },
   "file_extension": ".py",
   "mimetype": "text/x-python",
   "name": "python",
   "nbconvert_exporter": "python",
   "pygments_lexer": "ipython3",
   "version": "3.6.9"
  }
 },
 "nbformat": 4,
 "nbformat_minor": 2
}
